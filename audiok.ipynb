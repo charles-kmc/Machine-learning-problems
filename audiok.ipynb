{
 "cells": [
  {
   "cell_type": "markdown",
   "metadata": {},
   "source": [
    "Audio Classifier\n",
    "========================="
   ]
  },
  {
   "cell_type": "markdown",
   "metadata": {},
   "source": [
    "## Important information\n",
    "\n",
    "* Choose a group name/number and rename the file with it.\n",
    "* Be sure to enter the names of every member in the group in the cell below.\n",
    "* Use the power of number and work together as a team.\n",
    "* You can employ the use of the HPC (high perfomance computer) provided your server account has been established.\n",
    "* The tutor is always available to give more explanation and assistance whenever/wherever required, but make sure you have made effort yourself.\n",
    "* Please remove all test codes.\n",
    "* The solutions to the tasks should be turn in on Friday 13th Dec, end of the day (12am). \n",
    "* A notebook submission is required per group, no multiple submissions from same group. Submit by attaching only the .ipynb file please, not zip and I don't need other files (e.g the data) I already have them."
   ]
  },
  {
   "cell_type": "markdown",
   "metadata": {},
   "source": [
    "Group ......\n",
    "\n",
    "    Member 1\n",
    "    Member 2\n",
    "    Member 3\n",
    "    Member 4"
   ]
  },
  {
   "cell_type": "markdown",
   "metadata": {},
   "source": [
    "This task is inspired by the Audio Classifier Tutorial (found [here](https://pytorch.org/tutorials/beginner/audio_classifier_tutorial.html?highlight=audio))\n",
    "**Author**: `Winston Herring <https://github.com/winston6>`_\n",
    "\n",
    "This tutorial will show you how to correctly format an audio dataset and\n",
    "then train/test an audio classifier network on the dataset. First, let’s\n",
    "import the common torch packages as well as ``torch``, ``torchaudio``, ``pandas``,\n",
    "and ``numpy``. ``torchaudio`` is available `here <https://github.com/pytorch/audio>`_\n",
    "and can be installed by following the\n",
    "instructions on the website but I encountered a lot of trouble installing it, this ` conda install -c pytorch torchaudio-cpu ` rather worked for me."
   ]
  },
  {
   "cell_type": "markdown",
   "metadata": {},
   "source": [
    "If you have a CUDA GPU use that. Running\n",
    "the network on a GPU will greatly decrease the training/testing runtime.\n",
    "\n",
    "\n"
   ]
  },
  {
   "cell_type": "markdown",
   "metadata": {},
   "source": [
    "1: Importing the Dataset\n",
    "---------------------\n",
    "\n",
    "We will use the UrbanSound8K dataset to train our network. It is\n",
    "available for free `here <https://urbansounddataset.weebly.com/>`_ and contains\n",
    "10 audio classes with over 8000 audio samples! Once you have downloaded\n",
    "the compressed dataset, extract it to your current working directory.\n",
    "First, we will look at the csv file that provides information about the\n",
    "individual sound files. ``pandas`` allows us to open the csv file and\n",
    "use ``.iloc()`` to access the data within it.\n",
    "\n",
    "\n"
   ]
  },
  {
   "cell_type": "markdown",
   "metadata": {},
   "source": [
    "The 10 audio classes in the UrbanSound8K dataset are air_conditioner,\n",
    "car_horn, children_playing, dog_bark, drilling, enginge_idling,\n",
    "gun_shot, jackhammer, siren, and street_music. Let’s play a couple files\n",
    "and see what they sound like. The first file is street music and the\n",
    "second is an air conditioner.\n",
    "\n",
    "\n"
   ]
  },
  {
   "cell_type": "markdown",
   "metadata": {},
   "source": [
    "2: Formatting the Data\n",
    "-------------------\n",
    "\n",
    "Now that we know the format of the csv file entries, we can construct\n",
    "our dataset. We will create a rapper class for our dataset using\n",
    "``torch.utils.data.Dataset`` that will handle loading the files and\n",
    "performing some formatting steps. The UrbanSound8K dataset is separated\n",
    "into 10 folders. We will use the data from 9 of these folders to train\n",
    "our network and then use the 10th folder to test the network. The rapper\n",
    "class will store the file names, labels, and folder numbers of the audio\n",
    "files in the inputted folder list when initialized. The actual loading\n",
    "and formatting steps will happen in the access function ``__getitem__``.\n",
    "\n",
    "In ``__getitem__``, we use ``torchaudio.load()`` to convert the wav\n",
    "files to tensors. ``torchaudio.load()`` returns a tuple containing the\n",
    "newly created tensor along with the sampling frequency of the audio file\n",
    "(44.1kHz for UrbanSound8K). The dataset uses two channels for audio so\n",
    "we will use ``torchaudio.transforms.DownmixMono()`` (not available in the latest version of `torchaudio`) to convert the audio\n",
    "data to one channel. Next, we need to format the audio data. The network\n",
    "we will make takes an input size of 32,000, while most of the audio\n",
    "files have well over 100,000 samples. The UrbanSound8K audio is sampled\n",
    "at 44.1kHz, so 32,000 samples only covers around 700 milliseconds. By\n",
    "downsampling the audio to aproximately 8kHz, we can represent 4 seconds\n",
    "with the 32,000 samples. This downsampling is achieved by taking every\n",
    "fifth sample of the original audio tensor. Not every audio tensor is\n",
    "long enough to handle the downsampling so these tensors will need to be\n",
    "padded with zeros. The minimum length that won’t require padding is\n",
    "160,000 samples.\n",
    "\n",
    "\n"
   ]
  },
  {
   "cell_type": "markdown",
   "metadata": {},
   "source": [
    "3: Define the Network\n",
    "------------------\n",
    "\n",
    "For this task we want to closely reproduce the achitectures described in https://arxiv.org/pdf/1610.00087.pdf. You task is to read extensively the paper and reproduce the achitectures <font color='green'> M3, M5, M11 and M18. The M34-res is a bonus.</font>\n",
    "While attempting to reproduce the architectures endeavour to read through the common [pitfalls](https://urbansounddataset.weebly.com/urbansound8k.html#10foldCV) to get it right."
   ]
  },
  {
   "cell_type": "markdown",
   "metadata": {},
   "source": [
    "We will use the same optimization technique used in the paper, an Adam\n",
    "optimizer with weight decay set to 0.0001. At first, we will train with\n",
    "a learning rate of 0.01, but we will use a ``scheduler`` to decrease it\n",
    "to 0.001 during training.\n",
    "\n",
    "\n"
   ]
  },
  {
   "cell_type": "markdown",
   "metadata": {},
   "source": [
    "4: Training and Testing the Network\n",
    "--------------------------------\n",
    "\n",
    "You can define a training function that will feed our training data into the model and perform the backward pass and optimization steps. You can also make one for testing the networks accuracy and set the model to ``eval()`` mode and then run inference on the test dataset. Calling ``eval()`` sets the training variable in all modules in the network to false. Certain layers like batch normalization and dropout layers behave differently during training so this step is crucial for getting correct results.\n",
    "\n",
    "\n"
   ]
  },
  {
   "cell_type": "markdown",
   "metadata": {},
   "source": [
    "Finally, we can train and test the network. Train the network for as many epochs as time allows you. The network will be tested after each epoch to see how the accuracy varies during the training."
   ]
  },
  {
   "cell_type": "markdown",
   "metadata": {},
   "source": [
    "Conclusion\n",
    "----------\n",
    "\n",
    "If trained on 9 folders, the network should be about 40% accurate by the end of the training process for the least possible epochs. Training on less folders will result in a lower overall accuracy. Greater accuracies can be achieved using deeper CNNs at the expense of a larger memory footprint.\n",
    "\n",
    "For more advanced audio applications, such as speech recognition,\n",
    "recurrent neural networks (RNNs) are commonly used. There are also other\n",
    "data preprocessing methods, such as finding the mel frequency cepstral\n",
    "coefficients (MFCC), that can reduce the size of the dataset.\n",
    "\n",
    "\n"
   ]
  },
  {
   "cell_type": "markdown",
   "metadata": {},
   "source": [
    "<font color='red'>GOOD NEWS</font> : Solutions to the first two section have been given to you freely. <font color='blue'>You are welcome</font>. "
   ]
  },
  {
   "cell_type": "code",
   "execution_count": 1,
   "metadata": {},
   "outputs": [],
   "source": [
    "import os\n",
    "import glob\n",
    "import numpy as np\n",
    "import pandas as pd\n",
    "import torch\n",
    "import torch.nn.functional as F\n",
    "from torch.utils.data import Dataset, DataLoader\n",
    "from torch import nn\n",
    "import torchaudio\n",
    "from torch.optim.lr_scheduler import StepLR\n",
    "import datetime"
   ]
  },
  {
   "cell_type": "code",
   "execution_count": 2,
   "metadata": {},
   "outputs": [],
   "source": [
    "#rapper for the UrbanSound8K dataset\n",
    "#!pip3 install torchaudio"
   ]
  },
  {
   "cell_type": "code",
   "execution_count": 15,
   "metadata": {},
   "outputs": [],
   "source": [
    "class AudioDataset(Dataset):\n",
    "    \"\"\"\n",
    "    A rapper class for the UrbanSound8K dataset.\n",
    "    \"\"\"\n",
    "\n",
    "    def __init__(self, file_path, audio_paths, folds):\n",
    "        \"\"\"\n",
    "        Args:\n",
    "            file_path(string): path to the audio csv file\n",
    "            root_dir(string): directory with all the audio folds\n",
    "            folds: integer corresponding to audio fold number or list of fold number if more than one fold is needed\n",
    "        \"\"\"\n",
    "        self.audio_file = pd.read_csv(file_path)\n",
    "        self.folds = folds\n",
    "        self.audio_paths = glob.glob(audio_paths + '/*' + str(self.folds) + '/*')\n",
    "    \n",
    "    \n",
    "\n",
    "    def __len__(self):\n",
    "        return len(self.audio_paths)\n",
    "\n",
    "    def __getitem__(self, idx):\n",
    "        \n",
    "        audio_path = self.audio_paths[idx]\n",
    "        audio, rate = torchaudio.load(audio_path, normalization=True)\n",
    "        audio = audio.mean(0, keepdim=True)\n",
    "        c, n = audio.shape\n",
    "        zero_need = 160000 - n\n",
    "        audio_new = F.pad(audio, (zero_need //2, zero_need //2), 'constant', 0)\n",
    "        audio_new = audio_new[:,::5]\n",
    "        \n",
    "        #Getting the corresponding label\n",
    "        audio_name = audio_path.split(sep='/')[-1]\n",
    "        labels = self.audio_file.loc[self.audio_file.slice_file_name == audio_name].iloc[0,-2]\n",
    "        \n",
    "        return audio_new, labels"
   ]
  },
  {
   "cell_type": "code",
   "execution_count": 16,
   "metadata": {},
   "outputs": [],
   "source": [
    "file_path = '/home/steve/Documents/AMMI/UrbanSound8/metadata/UrbanSound8K.csv'\n",
    "audio_paths = '/home/steve/Documents/AMMI/UrbanSound8/audio'"
   ]
  },
  {
   "cell_type": "code",
   "execution_count": 17,
   "metadata": {},
   "outputs": [
    {
     "data": {
      "text/html": [
       "<div>\n",
       "<style scoped>\n",
       "    .dataframe tbody tr th:only-of-type {\n",
       "        vertical-align: middle;\n",
       "    }\n",
       "\n",
       "    .dataframe tbody tr th {\n",
       "        vertical-align: top;\n",
       "    }\n",
       "\n",
       "    .dataframe thead th {\n",
       "        text-align: right;\n",
       "    }\n",
       "</style>\n",
       "<table border=\"1\" class=\"dataframe\">\n",
       "  <thead>\n",
       "    <tr style=\"text-align: right;\">\n",
       "      <th></th>\n",
       "      <th>slice_file_name</th>\n",
       "      <th>fsID</th>\n",
       "      <th>start</th>\n",
       "      <th>end</th>\n",
       "      <th>salience</th>\n",
       "      <th>fold</th>\n",
       "      <th>classID</th>\n",
       "      <th>class</th>\n",
       "    </tr>\n",
       "  </thead>\n",
       "  <tbody>\n",
       "    <tr>\n",
       "      <th>8727</th>\n",
       "      <td>99812-1-2-0.wav</td>\n",
       "      <td>99812</td>\n",
       "      <td>159.522205</td>\n",
       "      <td>163.522205</td>\n",
       "      <td>2</td>\n",
       "      <td>7</td>\n",
       "      <td>1</td>\n",
       "      <td>car_horn</td>\n",
       "    </tr>\n",
       "    <tr>\n",
       "      <th>8728</th>\n",
       "      <td>99812-1-3-0.wav</td>\n",
       "      <td>99812</td>\n",
       "      <td>181.142431</td>\n",
       "      <td>183.284976</td>\n",
       "      <td>2</td>\n",
       "      <td>7</td>\n",
       "      <td>1</td>\n",
       "      <td>car_horn</td>\n",
       "    </tr>\n",
       "    <tr>\n",
       "      <th>8729</th>\n",
       "      <td>99812-1-4-0.wav</td>\n",
       "      <td>99812</td>\n",
       "      <td>242.691902</td>\n",
       "      <td>246.197885</td>\n",
       "      <td>2</td>\n",
       "      <td>7</td>\n",
       "      <td>1</td>\n",
       "      <td>car_horn</td>\n",
       "    </tr>\n",
       "    <tr>\n",
       "      <th>8730</th>\n",
       "      <td>99812-1-5-0.wav</td>\n",
       "      <td>99812</td>\n",
       "      <td>253.209850</td>\n",
       "      <td>255.741948</td>\n",
       "      <td>2</td>\n",
       "      <td>7</td>\n",
       "      <td>1</td>\n",
       "      <td>car_horn</td>\n",
       "    </tr>\n",
       "    <tr>\n",
       "      <th>8731</th>\n",
       "      <td>99812-1-6-0.wav</td>\n",
       "      <td>99812</td>\n",
       "      <td>332.289233</td>\n",
       "      <td>334.821332</td>\n",
       "      <td>2</td>\n",
       "      <td>7</td>\n",
       "      <td>1</td>\n",
       "      <td>car_horn</td>\n",
       "    </tr>\n",
       "  </tbody>\n",
       "</table>\n",
       "</div>"
      ],
      "text/plain": [
       "      slice_file_name   fsID       start         end  salience  fold  classID  \\\n",
       "8727  99812-1-2-0.wav  99812  159.522205  163.522205         2     7        1   \n",
       "8728  99812-1-3-0.wav  99812  181.142431  183.284976         2     7        1   \n",
       "8729  99812-1-4-0.wav  99812  242.691902  246.197885         2     7        1   \n",
       "8730  99812-1-5-0.wav  99812  253.209850  255.741948         2     7        1   \n",
       "8731  99812-1-6-0.wav  99812  332.289233  334.821332         2     7        1   \n",
       "\n",
       "         class  \n",
       "8727  car_horn  \n",
       "8728  car_horn  \n",
       "8729  car_horn  \n",
       "8730  car_horn  \n",
       "8731  car_horn  "
      ]
     },
     "execution_count": 17,
     "metadata": {},
     "output_type": "execute_result"
    }
   ],
   "source": [
    "p = pd.read_csv(file_path)\n",
    "p.tail()"
   ]
  },
  {
   "cell_type": "code",
   "execution_count": 18,
   "metadata": {},
   "outputs": [
    {
     "data": {
      "text/plain": [
       "torch.Size([1, 10])"
      ]
     },
     "execution_count": 18,
     "metadata": {},
     "output_type": "execute_result"
    }
   ],
   "source": [
    "#M3 first convolution\n",
    "M3 = nn.Sequential(\n",
    "    #conv1\n",
    "    nn.Conv1d(1,256,kernel_size=80, stride=4, padding=38),\n",
    "    nn.BatchNorm1d(256),\n",
    "    nn.ReLU(),\n",
    " \n",
    "    nn.MaxPool1d(4),\n",
    "    \n",
    "    #conv2\n",
    "    nn.Conv1d(256, 256, kernel_size=3, padding=1),\n",
    "    nn.BatchNorm1d(256),\n",
    "    nn.ReLU(),\n",
    "    \n",
    "    nn.MaxPool1d(4),\n",
    "    nn.AvgPool1d(500),\n",
    "    # nn.AdaptiveAvgPool1d(1), same for Avg\n",
    "    nn.Flatten(),\n",
    "    nn.Linear(256,10),\n",
    "    nn.Softmax(1)\n",
    "    \n",
    " )\n",
    "audio = torch.zeros(1,32000)\n",
    "M3(audio.unsqueeze(0)).shape"
   ]
  },
  {
   "cell_type": "code",
   "execution_count": 19,
   "metadata": {},
   "outputs": [
    {
     "data": {
      "text/plain": [
       "torch.Size([1, 32000])"
      ]
     },
     "execution_count": 19,
     "metadata": {},
     "output_type": "execute_result"
    }
   ],
   "source": [
    "audio.shape"
   ]
  },
  {
   "cell_type": "code",
   "execution_count": 20,
   "metadata": {},
   "outputs": [
    {
     "data": {
      "text/plain": [
       "torch.Size([1, 10])"
      ]
     },
     "execution_count": 20,
     "metadata": {},
     "output_type": "execute_result"
    }
   ],
   "source": [
    "#M5 second convolution\n",
    "M5 = nn.Sequential(\n",
    "    #conv1\n",
    "    nn.Conv1d(1,128,kernel_size=80, stride=4, padding=38),\n",
    "    nn.BatchNorm1d(128),\n",
    "    nn.ReLU(),\n",
    " \n",
    "    nn.MaxPool1d(4),\n",
    "    \n",
    "    #conv2\n",
    "    nn.Conv1d(128, 128, kernel_size=3, padding=1),\n",
    "    nn.BatchNorm1d(128),\n",
    "    nn.ReLU(),  \n",
    "    nn.MaxPool1d(4),\n",
    "    \n",
    "    #conv3\n",
    "    nn.Conv1d(128, 256, kernel_size=3, padding=1),\n",
    "    nn.BatchNorm1d(256),\n",
    "    nn.ReLU(),  \n",
    "    nn.MaxPool1d(4),\n",
    "    \n",
    "    #conv4\n",
    "    nn.Conv1d(256, 512, kernel_size=3, padding=3),\n",
    "    nn.BatchNorm1d(512),\n",
    "    nn.ReLU(),  \n",
    "    nn.MaxPool1d(4),\n",
    "    #nn.AvgPool1d(500),\n",
    "    nn.AdaptiveAvgPool1d(1), #same for Avg\n",
    "    nn.Flatten(),\n",
    "    nn.Linear(512,10),\n",
    "    nn.Softmax(1)\n",
    "    \n",
    " )\n",
    "audio = torch.zeros(1,32000)\n",
    "M5(audio.unsqueeze(0)).shape"
   ]
  },
  {
   "cell_type": "code",
   "execution_count": 21,
   "metadata": {},
   "outputs": [
    {
     "data": {
      "text/plain": [
       "torch.Size([1, 10])"
      ]
     },
     "execution_count": 21,
     "metadata": {},
     "output_type": "execute_result"
    }
   ],
   "source": [
    "#M11 second convolution\n",
    "M11 = nn.Sequential(\n",
    "    #conv1\n",
    "    nn.Conv1d(1,64,kernel_size=80, stride=4, padding=38),\n",
    "    nn.BatchNorm1d(64),\n",
    "    nn.ReLU(),\n",
    " \n",
    "    nn.MaxPool1d(4),\n",
    "    \n",
    "    #conv2 1\n",
    "    nn.Conv1d(64, 64, kernel_size=3, padding=1),\n",
    "    nn.BatchNorm1d(64),\n",
    "    nn.ReLU(), \n",
    "    \n",
    "    #conv2 2\n",
    "    nn.Conv1d(64, 64, kernel_size=3, padding=1),\n",
    "    nn.BatchNorm1d(64),\n",
    "    nn.ReLU(), \n",
    "    \n",
    "    nn.MaxPool1d(4),\n",
    "    \n",
    "    #conv3 1\n",
    "    nn.Conv1d(64, 128, kernel_size=3, padding=1),\n",
    "    nn.BatchNorm1d(128),\n",
    "    nn.ReLU(),  \n",
    "     \n",
    "    #conv3 2\n",
    "    nn.Conv1d(128, 128, kernel_size=3, padding=1),\n",
    "    nn.BatchNorm1d(128),\n",
    "    nn.ReLU(),  \n",
    "    nn.MaxPool1d(4),\n",
    "\n",
    "    #conv4  1\n",
    "    nn.Conv1d(128, 256, kernel_size=3, padding=2),\n",
    "    nn.BatchNorm1d(256),\n",
    "    nn.ReLU(),\n",
    "    \n",
    "    #conv4  2\n",
    "    nn.Conv1d(256, 256, kernel_size=3, padding=2),\n",
    "    nn.BatchNorm1d(256),\n",
    "    nn.ReLU(),\n",
    "    \n",
    "    #conv4  3\n",
    "    nn.Conv1d(256, 256, kernel_size=3, padding=2),\n",
    "    nn.BatchNorm1d(256),\n",
    "    nn.ReLU(),\n",
    "    \n",
    "    nn.MaxPool1d(4),\n",
    "    \n",
    "    #conv5  1\n",
    "    nn.Conv1d(256, 512, kernel_size=3, padding=2),\n",
    "    nn.BatchNorm1d(512),\n",
    "    nn.ReLU(),\n",
    "    \n",
    "    #conv5  2\n",
    "    nn.Conv1d(512, 512, kernel_size=3, padding=2),\n",
    "    nn.BatchNorm1d(512),\n",
    "    nn.ReLU(),\n",
    "    \n",
    "    \n",
    "    \n",
    "#     #nn.AvgPool1d(500),\n",
    "     nn.AdaptiveAvgPool1d(1), #same for Avg\n",
    "     nn.Flatten(),\n",
    "     nn.Linear(512,10),\n",
    "     nn.Softmax(1)\n",
    "    \n",
    " )\n",
    "audio = torch.zeros(1,32000)\n",
    "M11(audio.unsqueeze(0)).shape"
   ]
  },
  {
   "cell_type": "code",
   "execution_count": 22,
   "metadata": {},
   "outputs": [
    {
     "data": {
      "text/plain": [
       "torch.Size([1, 10])"
      ]
     },
     "execution_count": 22,
     "metadata": {},
     "output_type": "execute_result"
    }
   ],
   "source": [
    "M18 = nn.Sequential(\n",
    "    #conv1\n",
    "    nn.Conv1d(1,64,kernel_size=80, stride=4, padding=38),\n",
    "    nn.BatchNorm1d(64),\n",
    "    nn.ReLU(),\n",
    " \n",
    "    nn.MaxPool1d(4),\n",
    "    \n",
    "    #conv2 1\n",
    "    nn.Conv1d(64, 64, kernel_size=3, padding=1),\n",
    "    nn.BatchNorm1d(64),\n",
    "    nn.ReLU(), \n",
    "    \n",
    "    #conv2 2\n",
    "    nn.Conv1d(64, 64, kernel_size=3, padding=1),\n",
    "    nn.BatchNorm1d(64),\n",
    "    nn.ReLU(),\n",
    "    #conv2 3\n",
    "    nn.Conv1d(64, 64, kernel_size=3, padding=1),\n",
    "    nn.BatchNorm1d(64),\n",
    "    nn.ReLU(), \n",
    "    \n",
    "    #conv2 4\n",
    "    nn.Conv1d(64, 64, kernel_size=3, padding=1),\n",
    "    nn.BatchNorm1d(64),\n",
    "    nn.ReLU(),\n",
    "    nn.MaxPool1d(4),\n",
    "    \n",
    "    \n",
    "    #conv3 1\n",
    "    nn.Conv1d(64, 128, kernel_size=3, padding=1),\n",
    "    nn.BatchNorm1d(128),\n",
    "    nn.ReLU(),  \n",
    "     \n",
    "    #conv3 2\n",
    "    nn.Conv1d(128, 128, kernel_size=3, padding=1),\n",
    "    nn.BatchNorm1d(128),\n",
    "    nn.ReLU(),\n",
    "    \n",
    "    #conv3 3\n",
    "    nn.Conv1d(128, 128, kernel_size=3, padding=1),\n",
    "    nn.BatchNorm1d(128),\n",
    "    nn.ReLU(),\n",
    "    \n",
    "    #conv3 4\n",
    "    nn.Conv1d(128, 128, kernel_size=3, padding=1),\n",
    "    nn.BatchNorm1d(128),\n",
    "    nn.ReLU(),\n",
    "    \n",
    "    nn.MaxPool1d(4),\n",
    "    \n",
    "    #conv4  1\n",
    "    nn.Conv1d(128, 256, kernel_size=3, padding=2),\n",
    "    nn.BatchNorm1d(256),\n",
    "    nn.ReLU(),\n",
    "    \n",
    "    #conv4  2\n",
    "    nn.Conv1d(256, 256, kernel_size=3, padding=2),\n",
    "    nn.BatchNorm1d(256),\n",
    "    nn.ReLU(),\n",
    "    \n",
    "    #conv4  3\n",
    "    nn.Conv1d(256, 256, kernel_size=3, padding=2),\n",
    "    nn.BatchNorm1d(256),\n",
    "    nn.ReLU(),\n",
    "    \n",
    "    #conv4  4\n",
    "    nn.Conv1d(256, 256, kernel_size=3, padding=1),\n",
    "    nn.BatchNorm1d(256),\n",
    "    nn.ReLU(),\n",
    "    \n",
    "    nn.MaxPool1d(4),\n",
    "    \n",
    "    #conv5  1\n",
    "    nn.Conv1d(256, 512, kernel_size=3, padding=2),\n",
    "    nn.BatchNorm1d(512),\n",
    "    nn.ReLU(),\n",
    "    \n",
    "    #conv5  2\n",
    "    nn.Conv1d(512, 512, kernel_size=3, padding=2),\n",
    "    nn.BatchNorm1d(512),\n",
    "    nn.ReLU(),\n",
    "    \n",
    "    #conv5  3\n",
    "    nn.Conv1d(512, 512, kernel_size=3, padding=2),\n",
    "    nn.BatchNorm1d(512),\n",
    "    nn.ReLU(),\n",
    "    \n",
    "    #conv5  4\n",
    "    nn.Conv1d(512, 512, kernel_size=3, padding=2),\n",
    "    nn.BatchNorm1d(512),\n",
    "    nn.ReLU(),\n",
    "    \n",
    "    \n",
    "    nn.AdaptiveAvgPool1d(1), #same for Avg\n",
    "    nn.Flatten(),\n",
    "    nn.Linear(512,10),\n",
    "    nn.Softmax(1)\n",
    "    )\n",
    "audio = torch.zeros(1,32000)\n",
    "M18(audio.unsqueeze(0)).shape"
   ]
  },
  {
   "cell_type": "markdown",
   "metadata": {},
   "source": [
    "# "
   ]
  },
  {
   "cell_type": "code",
   "execution_count": 23,
   "metadata": {},
   "outputs": [
    {
     "data": {
      "text/plain": [
       "torch.Size([1, 48, 32000])"
      ]
     },
     "execution_count": 23,
     "metadata": {},
     "output_type": "execute_result"
    }
   ],
   "source": [
    "class ResNetModule(nn.Module):\n",
    "    def __init__(self, in_channels, out_channels, kernel_size, stride=1, padding=0):\n",
    "        super(ResNetModule, self).__init__()\n",
    "        \n",
    "        self.conv1 = nn.Conv1d(in_channels, out_channels, kernel_size, stride, padding)\n",
    "        self.batch1 = nn.BatchNorm1d(out_channels)\n",
    "        self.relu1  = nn.ReLU()\n",
    "        \n",
    "        self.conv2  = nn.Conv1d(out_channels, out_channels, kernel_size, stride, padding)\n",
    "        self.batch2 = nn.BatchNorm1d(out_channels)\n",
    "        \n",
    "        self.batch3 = nn.BatchNorm1d(out_channels)\n",
    "        self.relu2  = nn.ReLU()\n",
    "        \n",
    "    def forward(self,x):\n",
    "        x1 = self.conv1(x)\n",
    "        x1 = self.batch1(x1)\n",
    "        x1 = self.relu1(x1)\n",
    "        \n",
    "        x1 = self.conv2(x1)\n",
    "        x1 = self.batch2(x1)\n",
    "        \n",
    "        # print(x1.shape, x.shape)\n",
    "        if x1.shape[1] != x.shape[1]:\n",
    "            x = x.repeat(1,2,1) # repeat with 2 by 2\n",
    "        \n",
    "        x = x1 + x\n",
    "        x = self.batch3(x)\n",
    "        x = self.relu2(x)\n",
    "        return x\n",
    "\n",
    "audio = torch.zeros(48,32000)\n",
    "net  = ResNetModule(48,48,3,padding=1)\n",
    "net(audio.unsqueeze(0)).shape\n"
   ]
  },
  {
   "cell_type": "code",
   "execution_count": 24,
   "metadata": {},
   "outputs": [
    {
     "data": {
      "text/plain": [
       "torch.Size([1, 10])"
      ]
     },
     "execution_count": 24,
     "metadata": {},
     "output_type": "execute_result"
    }
   ],
   "source": [
    " M34res = nn.Sequential(\n",
    "    #conv1\n",
    "    nn.Conv1d(1,48,kernel_size=80, stride=4, padding=38),\n",
    "    nn.BatchNorm1d(48),\n",
    "    nn.ReLU(),\n",
    " \n",
    "    nn.MaxPool1d(4),\n",
    "    \n",
    "    ResNetModule(48,48,3,padding=1),\n",
    "    ResNetModule(48,48,3,padding=1),\n",
    "    ResNetModule(48,48,3,padding=1),\n",
    "    \n",
    "    nn.MaxPool1d(4),\n",
    "    \n",
    "    ResNetModule(48,96,3,padding=1),\n",
    "    ResNetModule(96,96,3,padding=1),\n",
    "    ResNetModule(96,96,3,padding=1),\n",
    "    ResNetModule(96,96,3,padding=1),\n",
    "    \n",
    "    nn.MaxPool1d(4),\n",
    "    \n",
    "    ResNetModule(96,192,3,padding=1),\n",
    "    ResNetModule(192,192,3,padding=1),\n",
    "    ResNetModule(192,192,3,padding=1),\n",
    "    ResNetModule(192,192,3,padding=1),\n",
    "    ResNetModule(192,192,3,padding=1),\n",
    "    ResNetModule(192,192,3,padding=1),\n",
    "    \n",
    "    nn.MaxPool1d(4),\n",
    "    \n",
    "    ResNetModule(192,384,3,padding=1),\n",
    "    ResNetModule(384,384,3,padding=1),\n",
    "    ResNetModule(384,384,3,padding=1),\n",
    "    \n",
    "    nn.AdaptiveAvgPool1d(1),\n",
    "    nn.Flatten(),\n",
    "    nn.Linear(384,10)\n",
    ")\n",
    "audio = torch.zeros(1,32000)\n",
    "M34res(audio.unsqueeze(0)).shape\n"
   ]
  },
  {
   "cell_type": "code",
   "execution_count": 25,
   "metadata": {},
   "outputs": [],
   "source": [
    "def accuracy(output, target, topk=(1,)):\n",
    "    with torch.no_grad():\n",
    "        maxk = max(topk)\n",
    "        batch_size = target.size(0)\n",
    "\n",
    "        _, pred = output.topk(maxk, 1, True, True)\n",
    "        pred = pred.t()\n",
    "        correct = pred.eq(target.view(1, -1).expand_as(pred))\n",
    "\n",
    "        res = []\n",
    "        for k in topk:\n",
    "            correct_k = correct[:k].view(-1).float().sum(0, keepdim=True)\n",
    "            res.append(correct_k.mul_(100.0 / batch_size))\n",
    "        return res"
   ]
  },
  {
   "cell_type": "code",
   "execution_count": 39,
   "metadata": {},
   "outputs": [],
   "source": [
    "def model_train_plot(model,name):\n",
    "    floder = [1,2,3,4,5,6,7,8,9,10]\n",
    "    print(\"Model:\"+ name + \"--start_time:\"+ str(datetime.datetime.now()))\n",
    "    for i in range(1,11):\n",
    "        floder_train = floder[:]\n",
    "        floder_train.remove(i)\n",
    "        \n",
    "        train_loader = AudioDataset(file_path,audio_paths,folds = floder_train)\n",
    "        test_loader = AudioDataset(file_path,audio_paths,folds =i)\n",
    "        \n",
    "        trainloader = DataLoader(train_loader, batch_size = 50, shuffle = False, num_workers = 2)\n",
    "        testloader = DataLoader(test_loader, batch_size = 50, shuffle = False, num_workers = 2)\n",
    "        \n",
    "        train_plot(model,trainloader,testloader,i,name)\n",
    "        \n",
    "    print(\"Model:\"+ name + \"--end_time:\"+ str(datetime.datetime.now()))"
   ]
  },
  {
   "cell_type": "code",
   "execution_count": 53,
   "metadata": {},
   "outputs": [],
   "source": [
    "def train_plot(model,trainloader,testloader,i_,name_):\n",
    "    test_loss = []\n",
    "    train_loss = []\n",
    "    top_1_train = []\n",
    "    top_1_test = []\n",
    "    criterion = nn.CrossEntropyLoss()\n",
    "    optimizer = torch.optim.Adam(model.parameters(), lr=0.01, weight_decay=1e-4)\n",
    "    scheduler = StepLR(optimizer, step_size = 8, gamma= 0.1)\n",
    "    #lr = lr * gamma for every 7 pass\n",
    "    print(\"Model:\"+ name_ + \"--test_folder:\"+ str(i_)+ \" --start_time:\"+ str(datetime.datetime.now())) \n",
    "    for epoch in range(10):\n",
    "        scheduler.step()\n",
    "        # train for 1 epoch on the train set\n",
    "        correct = 0\n",
    "        avg_losses = []\n",
    "        print(\"Model:\"+ name_ + \"--test_folder:\"+ str(i_) +\" -- epoch \" +str(epoch + 1)+ \"--start_time:\" +str(datetime.datetime.now()))\n",
    "        for i, (batch, targets) in enumerate(trainloader):\n",
    "\n",
    "            # batch and targets to cuda \n",
    "            batch = batch.cpu()\n",
    "            #targets = targets\n",
    "            # zero the parameter gradients\n",
    "            optimizer.zero_grad()\n",
    "            # forward \n",
    "            out = model(batch)\n",
    "            loss = criterion(out, targets)\n",
    "            avg_losses.append(loss)\n",
    "            # backward\n",
    "            loss.backward()\n",
    "            # gradient step \n",
    "            optimizer.step()\n",
    "            # compute accuracy \n",
    "            correct += accuracy(out, targets)[0].item() * batch.size(0) / 100\n",
    "            #print('Correct {} and index : {}'.format(correct,i))\n",
    "        \n",
    "        avg_losses = torch.tensor(avg_losses).mean()\n",
    "        train_loss.append(avg_losses)\n",
    "\n",
    "        top_1 = correct / len(trainloader.dataset) * 100\n",
    "        top_1_train.append(top_1)\n",
    "        print(\"Model \"+name_+\"--epoch:{} -- Train accuracy: {:.2f}%\".format(epoch + 1, top_1))\n",
    "        avg_losses=[]       \n",
    "        # evaluate on the test set  \n",
    "       ## 1model.eval()\n",
    "        with torch.no_grad():\n",
    "            correct = 0\n",
    "            for i, (batch, targets) in enumerate(testloader):\n",
    "\n",
    "                # batch and targets to cuda \n",
    "                batch = batch.cpu()\n",
    "                targets = targets\n",
    "                # forward \n",
    "                out = model(batch)\n",
    "                loss = criterion(out, targets)\n",
    "                avg_losses.append(loss)\n",
    "                # compute accuracy \n",
    "                correct += accuracy(out, targets)[0].item() * batch.size(0) / 100\n",
    "        avg_losses = torch.tensor(avg_losses).mean()\n",
    "        test_loss.append(avg_losses)\n",
    "        top_1 = correct / len(testloader.dataset) * 100\n",
    "        top_1_test.append(top_1)\n",
    "        print(\"Model \"+name_+\"--epoch:{} -- Test accuracy: {:.2f}%\".format(epoch + 1, top_1))\n",
    "        print(\"Model:\"+ name_ + \"--test_folder:\"+ str(i_) +\"-- epoch \"+str(epoch +1)+\"--end_time:\"+ str(datetime.datetime.now()))\n",
    "\n",
    "    print(\"Model:\"+ name_ + \"--test_folder:\"+ str(i_)+ \" --end_time:\"+ str(datetime.datetime.now())) \n",
    "    plot_loss_acc(train_loss,test_loss,top_1_train,top_1_test,i_,name_)\n"
   ]
  },
  {
   "cell_type": "code",
   "execution_count": 54,
   "metadata": {},
   "outputs": [],
   "source": [
    "def plot_loss_acc(train_loss,test_loss,train_acc,test_acc,i,name):\n",
    "    import matplotlib.pyplot as plt\n",
    "\n",
    "    plt.figure(figsize=(16,4))\n",
    "\n",
    "    plt.subplot(121)\n",
    "    p1 = plt.plot(train_loss)\n",
    "    p2 = plt.plot(test_loss)\n",
    "    plt.legend((p1[0], p2[0]), ('train', 'test'))\n",
    "    plt.title(\"train and test loss for \" +name+ \" model, using floder {} for test\".format(i))\n",
    "\n",
    "    plt.subplot(122)\n",
    "    p1 = plt.plot(train_acc)\n",
    "    p2 = plt.plot(test_acc)\n",
    "    plt.legend((p1[0], p2[0]), ('train', 'test'))\n",
    "    plt.title(\"train and test accuracy for \" +name+ \" model, using floder {} for test\".format(i))\n",
    "\n",
    "    plt.show() "
   ]
  },
  {
   "cell_type": "code",
   "execution_count": 55,
   "metadata": {},
   "outputs": [],
   "source": [
    "def run_all_models_10_times_and_plot():\n",
    "    print(\"      ***************************************************************************************************\")\n",
    "    print(\"**************************************************MODEL M3*************************************************\")\n",
    "    print(\"      ***************************************************************************************************\")\n",
    "    model = M3.cpu()\n",
    "    model_train_plot(model,\"M3\")\n",
    "    print(\"      ***************************************************************************************************\")\n",
    "    print(\"**************************************************MODEL M5*************************************************\")\n",
    "    print(\"      ***************************************************************************************************\")\n",
    "    model = M5.cpu()\n",
    "    model_train_plot(model,\"M5\")\n",
    "    print(\"      ***************************************************************************************************\")\n",
    "    print(\"**************************************************MODEL M11*************************************************\")\n",
    "    print(\"      ***************************************************************************************************\")\n",
    "    model = M11.cpu()\n",
    "    model_train_plot(model,\"M11\")\n",
    "    print(\"      ***************************************************************************************************\")\n",
    "    print(\"**************************************************MODEL M18*************************************************\")\n",
    "    print(\"      ***************************************************************************************************\")\n",
    "    model = M18.cpu()\n",
    "    model_train_plot(model,\"M18\")\n",
    "    print(\"      ***************************************************************************************************\")\n",
    "    print(\"***************************************************MODEL M34res************************************************\")\n",
    "    print(\"      ***************************************************************************************************\")\n",
    "    model = M34res.cpu()\n",
    "    model_train_plot(model,\"M34res\")\n"
   ]
  },
  {
   "cell_type": "code",
   "execution_count": null,
   "metadata": {},
   "outputs": [
    {
     "name": "stdout",
     "output_type": "stream",
     "text": [
      "      ***************************************************************************************************\n",
      "**************************************************MODEL M3*************************************************\n",
      "      ***************************************************************************************************\n",
      "Model:M3--start_time:2019-12-12 16:03:35.034831\n",
      "Model:M3--test_folder:1 --start_time:2019-12-12 16:03:35.081457\n",
      "Model:M3--test_folder:1 -- epoch 1--start_time:2019-12-12 16:03:35.081526\n",
      "Model M3--epoch:1 -- Train accuracy: 40.78%\n",
      "Model M3--epoch:1 -- Test accuracy: 44.67%\n",
      "Model:M3--test_folder:1-- epoch 1--end_time:2019-12-12 16:11:23.000846\n",
      "Model:M3--test_folder:1 -- epoch 2--start_time:2019-12-12 16:11:23.000901\n",
      "Model M3--epoch:2 -- Train accuracy: 39.92%\n",
      "Model M3--epoch:2 -- Test accuracy: 36.66%\n",
      "Model:M3--test_folder:1-- epoch 2--end_time:2019-12-12 16:19:40.972776\n",
      "Model:M3--test_folder:1 -- epoch 3--start_time:2019-12-12 16:19:40.972837\n",
      "Model M3--epoch:3 -- Train accuracy: 40.82%\n",
      "Model M3--epoch:3 -- Test accuracy: 41.35%\n",
      "Model:M3--test_folder:1-- epoch 3--end_time:2019-12-12 16:27:49.569922\n",
      "Model:M3--test_folder:1 -- epoch 4--start_time:2019-12-12 16:27:49.569971\n",
      "Model M3--epoch:4 -- Train accuracy: 38.40%\n",
      "Model M3--epoch:4 -- Test accuracy: 38.03%\n",
      "Model:M3--test_folder:1-- epoch 4--end_time:2019-12-12 16:36:48.115393\n",
      "Model:M3--test_folder:1 -- epoch 5--start_time:2019-12-12 16:36:48.115444\n",
      "Model M3--epoch:5 -- Train accuracy: 40.40%\n",
      "Model M3--epoch:5 -- Test accuracy: 41.81%\n",
      "Model:M3--test_folder:1-- epoch 5--end_time:2019-12-12 16:45:59.204446\n",
      "Model:M3--test_folder:1 -- epoch 6--start_time:2019-12-12 16:45:59.204516\n",
      "Model M3--epoch:6 -- Train accuracy: 42.49%\n",
      "Model M3--epoch:6 -- Test accuracy: 37.00%\n",
      "Model:M3--test_folder:1-- epoch 6--end_time:2019-12-12 16:55:12.085994\n",
      "Model:M3--test_folder:1 -- epoch 7--start_time:2019-12-12 16:55:12.086048\n",
      "Model M3--epoch:7 -- Train accuracy: 40.38%\n",
      "Model M3--epoch:7 -- Test accuracy: 41.01%\n",
      "Model:M3--test_folder:1-- epoch 7--end_time:2019-12-12 17:05:06.060148\n",
      "Model:M3--test_folder:1 -- epoch 8--start_time:2019-12-12 17:05:06.060203\n",
      "Model M3--epoch:8 -- Train accuracy: 41.70%\n",
      "Model M3--epoch:8 -- Test accuracy: 46.96%\n",
      "Model:M3--test_folder:1-- epoch 8--end_time:2019-12-12 17:32:40.903755\n",
      "Model:M3--test_folder:1 -- epoch 9--start_time:2019-12-12 17:32:40.903853\n",
      "Model M3--epoch:9 -- Train accuracy: 43.12%\n",
      "Model M3--epoch:9 -- Test accuracy: 49.83%\n",
      "Model:M3--test_folder:1-- epoch 9--end_time:2019-12-12 18:26:39.529851\n",
      "Model:M3--test_folder:1 -- epoch 10--start_time:2019-12-12 18:26:39.529956\n",
      "Model M3--epoch:10 -- Train accuracy: 44.02%\n",
      "Model M3--epoch:10 -- Test accuracy: 50.17%\n",
      "Model:M3--test_folder:1-- epoch 10--end_time:2019-12-12 21:57:20.981112\n",
      "Model:M3--test_folder:1 --end_time:2019-12-12 21:57:20.981146\n"
     ]
    },
    {
     "data": {
      "image/png": "[encoded data removed]",
      "text/plain": [
       "<Figure size 1152x288 with 2 Axes>"
      ]
     },
     "metadata": {
      "needs_background": "light"
     },
     "output_type": "display_data"
    },
    {
     "name": "stdout",
     "output_type": "stream",
     "text": [
      "Model:M3--test_folder:2 --start_time:2019-12-12 21:57:21.213386\n",
      "Model:M3--test_folder:2 -- epoch 1--start_time:2019-12-12 21:57:21.213484\n",
      "Model M3--epoch:1 -- Train accuracy: 40.50%\n",
      "Model M3--epoch:1 -- Test accuracy: 34.57%\n",
      "Model:M3--test_folder:2-- epoch 1--end_time:2019-12-12 22:05:08.322177\n",
      "Model:M3--test_folder:2 -- epoch 2--start_time:2019-12-12 22:05:08.322397\n",
      "Model M3--epoch:2 -- Train accuracy: 42.24%\n",
      "Model M3--epoch:2 -- Test accuracy: 37.61%\n",
      "Model:M3--test_folder:2-- epoch 2--end_time:2019-12-12 22:11:55.641439\n",
      "Model:M3--test_folder:2 -- epoch 3--start_time:2019-12-12 22:11:55.641491\n",
      "Model M3--epoch:3 -- Train accuracy: 41.22%\n",
      "Model M3--epoch:3 -- Test accuracy: 36.82%\n",
      "Model:M3--test_folder:2-- epoch 3--end_time:2019-12-12 22:18:47.550078\n",
      "Model:M3--test_folder:2 -- epoch 4--start_time:2019-12-12 22:18:47.550130\n",
      "Model M3--epoch:4 -- Train accuracy: 42.71%\n",
      "Model M3--epoch:4 -- Test accuracy: 36.71%\n",
      "Model:M3--test_folder:2-- epoch 4--end_time:2019-12-12 22:25:35.389931\n",
      "Model:M3--test_folder:2 -- epoch 5--start_time:2019-12-12 22:25:35.390002\n",
      "Model M3--epoch:5 -- Train accuracy: 42.38%\n",
      "Model M3--epoch:5 -- Test accuracy: 35.70%\n",
      "Model:M3--test_folder:2-- epoch 5--end_time:2019-12-12 22:32:52.081339\n",
      "Model:M3--test_folder:2 -- epoch 6--start_time:2019-12-12 22:32:52.081407\n",
      "Model M3--epoch:6 -- Train accuracy: 42.82%\n",
      "Model M3--epoch:6 -- Test accuracy: 36.26%\n",
      "Model:M3--test_folder:2-- epoch 6--end_time:2019-12-12 22:40:32.831528\n",
      "Model:M3--test_folder:2 -- epoch 7--start_time:2019-12-12 22:40:32.831581\n"
     ]
    }
   ],
   "source": [
    "run_all_models_10_times_and_plot()"
   ]
  },
  {
   "cell_type": "code",
   "execution_count": null,
   "metadata": {},
   "outputs": [],
   "source": [
    "#plot_loss_acc([3,2,3,4],[2,3,4,5],[3,2,3,4],[3,5,4,2],3,\"name_\")"
   ]
  },
  {
   "cell_type": "code",
   "execution_count": null,
   "metadata": {},
   "outputs": [],
   "source": []
  }
 ],
 "metadata": {
  "kernelspec": {
   "display_name": "Python 3",
   "language": "python",
   "name": "python3"
  },
  "language_info": {
   "codemirror_mode": {
    "name": "ipython",
    "version": 3
   },
   "file_extension": ".py",
   "mimetype": "text/x-python",
   "name": "python",
   "nbconvert_exporter": "python",
   "pygments_lexer": "ipython3",
   "version": "3.7.3"
  }
 },
 "nbformat": 4,
 "nbformat_minor": 1
}
